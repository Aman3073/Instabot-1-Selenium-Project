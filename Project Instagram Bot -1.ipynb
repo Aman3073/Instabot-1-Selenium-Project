{
 "cells": [
  {
   "cell_type": "markdown",
   "id": "4a14e184",
   "metadata": {},
   "source": [
    "# Project : InstaBot-1"
   ]
  },
  {
   "cell_type": "markdown",
   "id": "f14a7627",
   "metadata": {},
   "source": [
    "My friend has opened a new Food Blogging handle on Instagram and wants to get famous. He wants to follow a lot of people so that he can get noticed quickly but it is a tedious task so he asks you to help him. As, I know automation using Selenium, so, I decided to help him by creating an Instagram Bot.\n",
    "I am creating different functions for each task."
   ]
  },
  {
   "cell_type": "markdown",
   "id": "b6cf23fe",
   "metadata": {},
   "source": [
    "These are the libraries, which will be used in this project code."
   ]
  },
  {
   "cell_type": "code",
   "execution_count": 1,
   "id": "4c6d37fe",
   "metadata": {},
   "outputs": [
    {
     "name": "stdout",
     "output_type": "stream",
     "text": [
      "\n"
     ]
    }
   ],
   "source": [
    "from selenium import webdriver\n",
    "from selenium.webdriver.chrome.service import Service\n",
    "from webdriver_manager.chrome import ChromeDriverManager\n",
    "import warnings\n",
    "import time\n",
    "from selenium.webdriver.common.by import By\n",
    "from selenium.webdriver.common.keys import Keys\n",
    "from selenium.webdriver.support.ui import WebDriverWait\n",
    "from selenium.webdriver.support import expected_conditions as EC\n",
    "warnings.filterwarnings(\"ignore\", category=DeprecationWarning)\n",
    "s=Service(ChromeDriverManager().install())"
   ]
  },
  {
   "cell_type": "markdown",
   "id": "64105276",
   "metadata": {},
   "source": [
    "I am using chrome browser to open instagram. "
   ]
  },
  {
   "cell_type": "code",
   "execution_count": 47,
   "id": "616a431b",
   "metadata": {},
   "outputs": [],
   "source": [
    "driver = webdriver.Chrome(executable_path = \"C:\\\\Users\\\\hp\\\\Data-science-and-machine-learning\\\\selenium web driver\\\\chromedriver.exe\")\n",
    "driver.get(\"https://www.instagram.com\")"
   ]
  },
  {
   "cell_type": "markdown",
   "id": "24d60cc7",
   "metadata": {},
   "source": [
    "## Part-1 : Login to Your Instagram Handle & Submit with Sample Username and Password"
   ]
  },
  {
   "cell_type": "code",
   "execution_count": 48,
   "id": "2a7a48f1",
   "metadata": {},
   "outputs": [],
   "source": [
    "login = driver.find_element(By.NAME ,\"username\")\n",
    "login.send_keys(\"SAMPLE USERNAME\")\n",
    "pass_word = driver.find_element(By.NAME ,\"password\")\n",
    "pass_word.send_keys(\"SAMPLE PASSWORD\")\n",
    "bt = driver.find_element(By.XPATH,'//div[contains(@class,\"bkEs3\")]')\n",
    "bt.click()\n",
    "time.sleep(3)"
   ]
  },
  {
   "cell_type": "markdown",
   "id": "bb31e119",
   "metadata": {},
   "source": [
    "## Save Information"
   ]
  },
  {
   "cell_type": "code",
   "execution_count": 49,
   "id": "1910164c",
   "metadata": {},
   "outputs": [],
   "source": [
    "save_info = WebDriverWait(driver,10).until(EC.presence_of_element_located((By.CLASS_NAME,\"cmbtv\")))\n",
    "save_info.click()"
   ]
  },
  {
   "cell_type": "markdown",
   "id": "4d57bdad",
   "metadata": {},
   "source": [
    "## Notification Window "
   ]
  },
  {
   "cell_type": "code",
   "execution_count": null,
   "id": "9491c104",
   "metadata": {},
   "outputs": [],
   "source": [
    "notification = WebDriverWait(driver,10).until(EC.presence_of_element_located((By.CLASS_NAME,\"_a9_1\")))\n",
    "notification.click()"
   ]
  },
  {
   "cell_type": "markdown",
   "id": "745ba4b6",
   "metadata": {},
   "source": [
    "## Part-2: Type for “food” in Search Bar & Print All The Names of The Instagram Handles That are Displayed in List After Typing “food”\n",
    "Note : Make sure to avoid printing hashtags"
   ]
  },
  {
   "cell_type": "markdown",
   "id": "e13fa5e9",
   "metadata": {},
   "source": [
    "## Search 'food' In Search Box"
   ]
  },
  {
   "cell_type": "code",
   "execution_count": 5,
   "id": "93098173",
   "metadata": {},
   "outputs": [],
   "source": [
    "bt_serch = driver.find_element(By.XPATH,'//input[starts-with(@placeholder,\"Search\")]')\n",
    "bt_serch.send_keys(\"food\")"
   ]
  },
  {
   "cell_type": "markdown",
   "id": "9c06fc60",
   "metadata": {},
   "source": [
    "## Printing All The Profiles Except Hashtags"
   ]
  },
  {
   "cell_type": "code",
   "execution_count": 6,
   "id": "b654a561",
   "metadata": {},
   "outputs": [
    {
     "name": "stdout",
     "output_type": "stream",
     "text": [
      "foodtalkindia\n",
      "gwalior_food_\n",
      "foodie_from_delhi_\n",
      "bhilaifoood\n",
      "foodadda1\n",
      "dilsefoodie\n",
      "food\n",
      "foodie_incarnate\n",
      "foodzeee\n",
      "food_food_surat\n",
      "food_addii\n",
      "delhifoodwalks\n",
      "kashmirfoodgram\n",
      "foodloversmumbai\n",
      "raipurfoodpedia\n",
      "cg_food_lover\n",
      "cg_food_and_travel\n",
      "raipurfoodielove\n",
      "foodie.raipurian\n",
      "food_lunatic\n",
      "cookwithankitaa\n",
      "yourfoodlab\n",
      "foodiesofindia\n",
      "foodfiction_\n",
      "indian_tasty_food\n",
      "sortedfood\n",
      "raipurfood_byora\n",
      "foodguy.24\n",
      "travelufoodie\n",
      "food.darzee\n",
      "foodbible\n",
      "_foodivas\n",
      "delhifoodmaniac\n",
      "foodie_deck04\n",
      "foodbloggerai\n",
      "kolkatafoodie\n",
      "foodie.sayonti\n",
      "anindianfoodie\n",
      "foodhunter_sabu\n",
      "foodlibraryraipur\n",
      "freakin_foodies\n",
      "foodz.in\n",
      "indian_food21\n",
      "foodinsider\n",
      "foodporn\n",
      "denish.tanna\n",
      "thefoodcultt\n",
      "foodelhi\n",
      "delhifoodking\n",
      "streetfoodhubin\n"
     ]
    }
   ],
   "source": [
    "food_list = driver.find_elements(By.XPATH,'//a[starts-with(@class,\"oajrlxb2 \")]//div[contains(@class,\"_aacl\")]/div/div')\n",
    "for i in food_list:\n",
    "    name = i.get_attribute(\"innerHTML\")\n",
    "    if \"span\" not in name:\n",
    "        print(name)"
   ]
  },
  {
   "cell_type": "markdown",
   "id": "72d9f924",
   "metadata": {},
   "source": [
    "## Clear Search"
   ]
  },
  {
   "cell_type": "code",
   "execution_count": 7,
   "id": "a17e07fa",
   "metadata": {},
   "outputs": [],
   "source": [
    "driver.refresh()"
   ]
  },
  {
   "cell_type": "markdown",
   "id": "d79e459f",
   "metadata": {},
   "source": [
    "## Part3 :- Searching and Opening a profile of “So Delhi” "
   ]
  },
  {
   "cell_type": "code",
   "execution_count": 8,
   "id": "e8a130a3",
   "metadata": {},
   "outputs": [],
   "source": [
    "bt_serch = driver.find_element(By.XPATH,'//input[starts-with(@placeholder,\"Search\")]')\n",
    "bt_serch.send_keys(\"So Delhi\")\n",
    "so_delhi_btn = WebDriverWait(driver, 10).until(\n",
    "    EC.element_to_be_clickable((By.XPATH, '//a[contains(@class,\"oajrlxb2\")]//div[starts-with(@class,\"_aacl\")]/div/div')))\n",
    "so_delhi_btn.click()"
   ]
  },
  {
   "cell_type": "markdown",
   "id": "6bdcb225",
   "metadata": {},
   "source": [
    "# Part-4: Follow/Unfollow - \n",
    "### 1. Open the Instagram Handle of “So Delhi” (Already Done)\n",
    "### 2. Start following it. Print a message if it is already following\n",
    "### 3. After following, unfollow the instagram handle. Print a message if I have already unfollowed."
   ]
  },
  {
   "cell_type": "markdown",
   "id": "f3180e98",
   "metadata": {},
   "source": [
    "# follow"
   ]
  },
  {
   "cell_type": "code",
   "execution_count": 44,
   "id": "f783b3c2",
   "metadata": {},
   "outputs": [
    {
     "name": "stdout",
     "output_type": "stream",
     "text": [
      "Following\n"
     ]
    }
   ],
   "source": [
    "follow_btn = driver.find_element(By.XPATH,'//div[contains(@class,\"_aad6\")]')\n",
    "\n",
    "if follow_btn.get_attribute(\"innerHTML\") == \"Follow\":\n",
    "    follow_btn.click()\n",
    "    print(\"Following\")\n",
    "else:\n",
    "    print('You are already following the page!')"
   ]
  },
  {
   "cell_type": "markdown",
   "id": "25328f17",
   "metadata": {},
   "source": [
    "# Unfollow "
   ]
  },
  {
   "cell_type": "code",
   "execution_count": 51,
   "id": "be8934f9",
   "metadata": {},
   "outputs": [
    {
     "name": "stdout",
     "output_type": "stream",
     "text": [
      "Unfollowing\n"
     ]
    }
   ],
   "source": [
    "if driver.find_element(By.XPATH,'//div[contains(@class,\"_aad6\")]').get_attribute(\"innerHTML\")==\"Follow\":\n",
    "    # if not folliwing then printing\n",
    "    print('You have already unfollowed the page')\n",
    "    \n",
    "else:\n",
    "    unfollow_btn = driver.find_element(By.XPATH,'//div[contains(@class,\"_aad6\")]')\n",
    "    unfollow_btn.click()\n",
    "    time.sleep(2)\n",
    "    cfn_unfollow = driver.find_element(By.XPATH,'//div[contains(@class,\"_a9-z\")]/button')\n",
    "    cfn_unfollow.click()\n",
    "    print(\"Unfollowing\")"
   ]
  },
  {
   "cell_type": "markdown",
   "id": "175e3f3d",
   "metadata": {},
   "source": [
    "# Part-5 Like/Unlike posts\n",
    "### 1.Liking the top 30 posts of the ‘dilsefoodie'. Print message if you have already liked it.\n",
    "### 2.Unliking the top 30 posts of the ‘dilsefoodie’. Print message if you have already unliked it."
   ]
  },
  {
   "cell_type": "code",
   "execution_count": null,
   "id": "59a337d9",
   "metadata": {},
   "outputs": [],
   "source": [
    "# home botton\n",
    "driver.back()\n",
    "time.sleep(2)\n",
    "# clear search and refresh \n",
    "driver.refresh() \n",
    "time.sleep(2)"
   ]
  },
  {
   "cell_type": "markdown",
   "id": "8dadf3d6",
   "metadata": {},
   "source": [
    "# Searching and Opening a profile of \"dilsefoodie\" "
   ]
  },
  {
   "cell_type": "code",
   "execution_count": 52,
   "id": "1603f85f",
   "metadata": {},
   "outputs": [],
   "source": [
    "# \n",
    "bt_serch = driver.find_element(By.XPATH,'//input[starts-with(@placeholder,\"Search\")]')\n",
    "bt_serch.send_keys(\"dilsefoodie\")\n",
    "time.sleep(2)\n",
    "dsf_btn = driver.find_element(By.XPATH,'//a[contains(@class,\"oajrlxb2 \")]//div[starts-with(@class,\"_aacl\")]/div/div')\n",
    "dsf_btn.click()"
   ]
  },
  {
   "cell_type": "markdown",
   "id": "6b8debfd",
   "metadata": {},
   "source": [
    "# Liking the top 30 posts"
   ]
  },
  {
   "cell_type": "code",
   "execution_count": 137,
   "id": "e91e4575",
   "metadata": {},
   "outputs": [
    {
     "name": "stdout",
     "output_type": "stream",
     "text": [
      "LIKED\n",
      "LIKED\n",
      "LIKED\n",
      "LIKED\n",
      "LIKED\n",
      "LIKED\n",
      "LIKED\n",
      "LIKED\n",
      "LIKED\n",
      "LIKED\n",
      "LIKED\n",
      "LIKED\n",
      "LIKED\n",
      "LIKED\n",
      "LIKED\n",
      "LIKED\n",
      "LIKED\n",
      "LIKED\n",
      "LIKED\n",
      "LIKED\n",
      "LIKED\n",
      "LIKED\n",
      "LIKED\n",
      "LIKED\n",
      "LIKED\n",
      "LIKED\n",
      "LIKED\n",
      "LIKED\n",
      "LIKED\n",
      "LIKED\n"
     ]
    }
   ],
   "source": [
    "post_list = driver.find_elements(By.XPATH,'//div[starts-with(@class,\"_aabd \")]')\n",
    "for i in range(30):\n",
    "    post_list[i].click()\n",
    "    like_btn = WebDriverWait(driver, 10).until(\n",
    "        EC.presence_of_element_located((By.XPATH,'//div[contains(@class,\"_abl_\")]/span')))\n",
    "    a = like_btn.get_attribute(\"innerHTML\").split()[1].split(\"=\")[1]\n",
    "    if a == '\"Like\"':\n",
    "        like_btn.click()\n",
    "        print(\"LIKED\")\n",
    "    else:\n",
    "        print(\"Aready Liked\")\n",
    "    close = driver.find_element(By.XPATH,'//div[contains(@class,\"futnfnd5\")]')\n",
    "    close.click()\n",
    "    time.sleep(2)"
   ]
  },
  {
   "cell_type": "markdown",
   "id": "32fd8103",
   "metadata": {},
   "source": [
    "# Unliking the top 30 posts"
   ]
  },
  {
   "cell_type": "code",
   "execution_count": 146,
   "id": "5c6d205d",
   "metadata": {},
   "outputs": [
    {
     "name": "stdout",
     "output_type": "stream",
     "text": [
      "Aready Unliked\n",
      "Unliked\n",
      "Unliked\n",
      "Unliked\n",
      "Unliked\n",
      "Unliked\n",
      "Unliked\n",
      "Unliked\n",
      "Unliked\n",
      "Unliked\n",
      "Unliked\n",
      "Unliked\n",
      "Unliked\n",
      "Unliked\n",
      "Unliked\n",
      "Unliked\n",
      "Unliked\n",
      "Unliked\n",
      "Unliked\n",
      "Unliked\n",
      "Unliked\n",
      "Unliked\n",
      "Unliked\n",
      "Unliked\n",
      "Unliked\n",
      "Unliked\n",
      "Unliked\n",
      "Unliked\n",
      "Unliked\n",
      "Unliked\n"
     ]
    }
   ],
   "source": [
    "post_list = driver.find_elements(By.XPATH,'//div[starts-with(@class,\"_aabd \")]')\n",
    "for i in range(30):\n",
    "    post_list[i].click()\n",
    "    unlike_btn = WebDriverWait(driver, 10).until(EC.presence_of_element_located(\n",
    "            (By.XPATH,'//section[contains(@class,\"_aamu\")]/span/button/div/span')))\n",
    "    a = unlike_btn.get_attribute(\"innerHTML\").split()[1].split(\"=\")[1]\n",
    "    if a =='\"Unlike\"':\n",
    "        unlike_btn.click()\n",
    "        print(\"Unliked\")\n",
    "    else:\n",
    "        print(\"Aready Unliked\")\n",
    "    close = driver.find_element(By.XPATH,'//div[contains(@class,\"futnfnd5\")]')\n",
    "    close.click()\n",
    "    time.sleep(2)\n"
   ]
  },
  {
   "cell_type": "markdown",
   "id": "d80234ec",
   "metadata": {},
   "source": [
    "## Part-6: Extract list of followers\n",
    "### 1. Extraction of the usernames of the first 500 followers of ‘foodtalkindia’ and ‘sodelhi’.\n",
    "### 2. Printing all the followers of “foodtalkindia” that I am following but those who don’t follow me."
   ]
  },
  {
   "cell_type": "code",
   "execution_count": 148,
   "id": "aabac49f",
   "metadata": {},
   "outputs": [],
   "source": [
    "# home botton\n",
    "driver.back()\n",
    "time.sleep(2)\n",
    "# clear search and refresh \n",
    "driver.refresh() \n",
    "time.sleep(2)"
   ]
  },
  {
   "cell_type": "markdown",
   "id": "f794a97b",
   "metadata": {},
   "source": [
    "## 1. Extraction of the usernames of the first 500 followers of ‘foodtalkindia’ and ‘sodelhi’."
   ]
  },
  {
   "cell_type": "code",
   "execution_count": 149,
   "id": "c6ef69b6",
   "metadata": {},
   "outputs": [
    {
     "name": "stdout",
     "output_type": "stream",
     "text": [
      "['6x_12000', '<div class=\"_aacl _aacn _aacv _aacy _aad6\">Followed by <span class=\"_aaai\">thuiwhor2lg</span>, <span class=\"_aaai\">debarshi_de_cavour_13</span>, <span class=\"_aaai\">bkn2576</span> +14 more</div>', '_.nish._1203', '_.shimona', '__.aditi18.__', '____wanderlust1____', '___nish.a', '__akashr__', '__lahari.chinnam', '__manish__1304__', '_ad_iiiii', '_ananya_thukral_', '_ankesh_singh_chauhan004', '_avgwitch_', '_born.__.confused', '_de_salman', '_fitline_introvert', '_ig_mroy_', '_lady.in.black___', '_muskaaaannnn.n', '_om_dhameliya__', '_realsaurabh', '_riyanarang_', '_sk___sbl__', '_sohail_hannikeri', '_taran.24_', '_tushaarkapoor', 'a_more_delicases__9jc', 'aarshitaverma', 'aarushi_j', 'aashish06', 'abhijeetmoreagc', 'ad8878046', 'adabshiekh', 'adetimiglani', 'adityasetia', 'adrian19495', 'adventurebros.in', 'aishu_s13', 'akhil_m_agarwal', 'akritidua', 'akshay.arora10', 'amaan_ilyas', 'aman_2022_sample_testing', 'aman_gwl2021', 'amansarora', 'amir_adelpour1', 'amitrexian', 'ammeeee__', 'amritasaimarla16', 'amysteriousagantuk', 'amyy_rajput89', 'anandh_sharmamariner_', 'anandsaffron', 'angelsnbeauty', 'animesh8946', 'anjanigrover', 'ankur__007_', 'ankurjainaj22', 'annuaggarwal08', 'anoushkagupta.x', 'anshikaahir_', 'anubhawadhwa', 'anuj1709', 'anusuya.borah', 'arjun.kohli555', 'arjun.sethi.rover', 'arpans01', 'art_urbun_tales', 'arttrick.in', 'ashfquesisodia', 'ashmitahahaha', 'ashu__jainn', 'ashwin_mazumdar', 'asim__sa', 'asobti', 'asthasayshi', 'astronkitchenware', 'athaliahbraganza_', 'ather_thetruthis_hidden_mncswd', 'automobilelegends', 'avaantikachawla', 'avnijaglan', 'ayaannchawla', 'babarmir04', 'bablusing.sing.18', 'bakingsparksjoy', 'balwant_rana_0075', 'barsolutionsllp', 'baserasoniya', 'beauti.fool', 'bedi17', 'belliappakn', 'bharatbhushanpuri', 'bhargav_1122', 'bhookad.delhits', 'bhumika10', 'bhumika87', 'bibhu.19', 'big_bull_abc', 'biologylovers012', 'bkb_automobiles', 'bkn2576', 'boco_bombay', 'booksstacks', 'butwhereisthefood', 'cafewink', 'carbdashian_59', 'chaipiobindasjio', 'chauhan22aman', 'chaya_shenoy', 'chef_maddy_07', 'chef_sufiyan', 'chhaya.jadhao.56', 'chhina_tarn_taran', 'chikuy319', 'christina.hess21', 'cocoa_berry_', 'cravingthetruthaboutbong', 'cviewsoninsta', 'cynthia.stacey', 'daddyslilgirl__25', 'danielleann28', 'dars.hu2101', 'dashrathmasurkar', 'daxal_91', 'day_dreamer06', 'debarshi_de_cavour_13', 'deepanshug06', 'deeppatel22099', 'deeptiahmad_23', 'deeptkr4', 'delishchunks', 'dennishkk', 'depressed_boii11', 'desi_angreji_kitchen', 'dev_sharma_541', 'devkhurana0', 'dhruvb24', 'dhruvii_solanki', 'dietzomato', 'dinesh.kankaria', 'dipita_das', 'divu__0502', 'diyadeep96', 'dnfluence_', 'doc._.nivi', 'dr_geeta_saini', 'drshweta_15', 'dubeynilu_186', 'eazydiner_udaipur', 'excellarealttors', 'f____nll', 'fa_te1261', 'fakruddin5876', 'fazaelizausmani7', 'fieldfreshoutlet', 'fiestakraftevents', 'foo_di3', 'food_buzz23', 'food_fiesta78', 'foodandstamp', 'foodie_from_delhi_', 'foodisflirtingonme', 'foooodiee_soul', 'fork.songs', 'freshal_agroforestry', 'friendship_accountt', 'fudggjgfhdhv', 'gagan.tongiya', 'gangadhami2060', 'gautam._201', 'gee__spot_', 'goelaskitchen', 'goswami.manu', 'grishma_moharana', 'guddu.3198', 'guneetahuja2009', 'gurpreetbilling899', 'haarishprashanth', 'happygirlcool', 'hardcoresunaina', 'hareshjawahar', 'harichandanagrandhe', 'hariram.hariram.161009', 'harniisha', 'harshbindal23', 'harshitasharma021', 'hasitsaysyoueat', 'hello_mr.pereira', 'heyitsdilli', 'hireshsuvarna', 'home.made1993', 'homedecoration408', 'hon3ym3hra', 'iam_sagarjoshi', 'iamamx', 'iamirrevocable', 'iamsazidk', 'imankitbharti', 'imshekharshukla', 'imsusovan', 'indian.student.kitchen', 'indian_foodblogs', 'indianbrews', 'indo_western_tadka', 'indresh_vikram_singh', 'inishmerchant', 'itachi_uchiha_217', 'its_golden_choudhry143', 'its_sandeepmaurya124', 'iturnedintoamonster', 'itz_bad_raven_', 'itzmalife_ar', 'itzqueen7992', 'j33963932', 'jainpragya98', 'janbevvaz', 'jatinder_kapur', 'jayashrip288', 'jemythresiajohnson', 'jewellery_at_wholesale007', 'jhalalala', 'jid_0019', 'jineshkothari27', 'jintudas_photography', 'jnsrishti_19', 'joycemjacob', 'jrdkcookingdiaries', 'jsdcanada', 'jsgrand_jhansi', 'karan_khanna92', 'karmaaaaxx', 'karmaexpress', 'kashmiridryfruits_com', 'kaushal5806', 'kavita.nikshe', 'kay_drama_', 'keyakhurana', 'khandelwal.prateek79', 'khannaabhaiy', 'khushh_921', 'khushishekhawat._', 'kishansharma2203_', 'kkunaaal', 'kohinoor_bhopal', 'kombooz', 'komsss_', 'krishangupta30', 'krishna_ayurved_official', 'krishnajadav39', 'kristie_bora', 'kritapos', 'krulluthra', 'ktm_boi_munna', 'kulvinderruhil', 'kundu_paban', 'lapinoz.pizza.godadara.surat', 'letsfoodup_punekar', 'letsmealit', 'lipichauhann', 'liticooking', 'll_vishu_86__ll', 'lo_ve_sharmaa', 'londonsaeed', 'lowkeytaaa', 'luvtesh', 'm_abhi_gupta_1h3', 'madana_chd', 'madhokchetan', 'madhvis', 'mahalaxmi_mithai__bhandar_001', 'makeupbyshriyapardalsingh', 'mallika8288', 'mamtachoudhary75', 'maneeshkapoor8', 'mani__reddy__4512', 'marineatanjuna', 'maryamfarhat777', 'mayanktayal12', 'me.gundeep', 'mealtoday2022', 'meghaprakash13', 'mehrapadam44', 'mi_carino_its_him', 'minakshishekhawat21', 'mind.gobbling', 'mirza_muhammad_49', 'missss_bhuyan', 'mohad.arif.39', 'molysnair', 'monginis_kalyan99', 'monishchhabria18', 'mr.foodpath', 'mr.gauravsuri', 'mr_.kit_.kat_', 'mr_imperfect0786', 'mrinal.bhutani', 'mrittika_banerjee', 'mruchika', 'mundranehal', 'myselfkangkan', 'nafsechittha', 'nainanchopra', 'nancy_saenz15', 'nancyarora2061', 'narasimhanpooja', 'nathan_j.t', 'nathu.ram4', 'naveen_nabbu', 'nccookingvlog', 'neelamgupta6381', 'nidhipandey10', 'nikhilyadav005', 'nikondash', 'niks.100', 'nikunj08_03', 'nitikavirmani', 'niyogimahuya.71', 'nobitaamu93', 'normiee.12', 'notfreddybirdy', 'nouriceking', 'officialdeepmomigmail.com3', 'okaysimrann', 'omogjm2020', 'only_verified_675', 'ostel.in', 'outing_official', 'palakagarwal_02', 'pandumaker', 'pankajsainy8', 'pareekshubham', 'partyytherapy', 'parul02arora', 'patel_yash__7', 'pavani.mishra', 'pencilsandframes', 'phenix535', 'piyassu___mittal', 'pkkp_2045', 'poojarc', 'poonamsinha2030', 'prabhkiratghai', 'prajaktasankhe', 'pranjal_r_dahiya', 'prateek84official', 'premachephulpakhru00', 'prernavohra26', 'prince._.sharma', 'princegrwl8', 'princessguddu', 'priyakakitchen2022', 'productgraphybyvipin', 'projectcodingninja', 'psk_1507', 'pvt.hour', 'queen_janom_khan', 'r4vi_15', 'raftaarr075', 'rahul0511', 'rahul_gumber_', 'rahulpatole007007', 'rahuuulbb', 'raivishambher', 'raj.ch0udhary', 'raja__king__313', 'rajat.kapur', 'rajeshkanojiain35', 'rajkumari.sharma.5454', 'rajputana_1773', 'rajshreeboobna', 'rakshana_kumar', 'ramila_purshotam', 'random_person6412', 'raniya_iqbal', 'raunakrajput183', 'raviyadav1212', 'real_sketch_bale_baba', 'realty__ganesh_l', 'reenajohar', 'rhea.joseph', 'rhythmbully', 'ririisavibe', 'rishap_a24', 'ritikakakkarloomba', 'rohani_parham', 'rohatgi24parul', 'ronii__choudhary', 'roshni.mahajan76', 'rounak.tiwari.7', 'royalfurniturejhs', 'rutika___14', 'rutuj7570', 's_o_u_r_a_b_h___rj__02___', 'saesha_bakes', 'sahnra', 'saleena_shai', 'sameer_hameed.h', 'sameersingh6739', 'sana_97151', 'sanayap91', 'santo_sh4244', 'sapna.tandon', 'sarang_12_7', 'satchirathore', 'saud_azeem_sayyed', 'scorpio_lady_in', 'seemad_15', 'septemberbyshubhita', 'serve.withlove', 'shaifali_sawale', 'shanu0708', 'shashwatvarma', 'shaz_r13', 'shekhar.virmani', 'shiba_watts_sethi', 'shikhasingh8587', 'shitrutvinotagain', 'shivam_rgupta', 'shivangiijalan', 'shobhitasachdeva', 'shubhangiii', 'shubhankar_rawat410', 'shuri943', 'siddmohan', 'sidharthpuri', 'sidthirani', 'sigmarambler6', 'signaturepremium_cafe', 'silo_coworking', 'simgtw', 'simraann97', 'singhricha934', 'sippphappens', 'sohil_khan_1214', 'sohil_khan_sp_333', 'son__of__zalawad__vishubha', 'sonalishelke860', 'sonia7105', 'sonicabaijal', 'ssritdhars', 'stayinnbpl', 'su.sh2729', 'subir_rathore', 'sultanabbasi315', 'sumedhmandla', 'sumit_thakur_oo1', 'sumitchokhra', 'sumitrajawar', 'sunan_d_a_', 'sunilkumarahuja', 'sunnyds61', 'super_elite_squad', 'suyash_pillai', 'swapnilpardheofficial', 'swastikabose', 'tahseenquadri', 'talukdarsmitakshi', 'tandooriwala_hardoi', 'teetoo_theparrot', 'teewhoavz', 'that_sacred_foodie', 'the.retailmarketing', 'the_curious_appeti8', 'the_incognitocat', 'the_kitchenette_belle', 'the_virat_jewwellers', 'theaawesomeguy', 'thebrijen', 'theehungrysoul', 'theshalinbhat', 'theurbanvibe', 'theyummyburmese', 'thuiwhor2lg', 'tiinaahgandhi', 'toni_bhai7777', 'tresclaircafe', 'tribhuwan.rathore.1', 'trustable_liiar', 'tsar.17', 'un_film_de_mk', 'upwalevermaji', 'val_lllly', 'valleri_mathias', 'veejaypaatil', 'vijay_joshi64', 'vijisharobin', 'vikrantrohilla20', 'vinay.sharma1', 'virajkchhetri', 'viruf_kumar_velaga', 'vishaal_rai11', 'vishnu_nath', 'vishu_6917', 'visyadav6351', 'vivek__tripathii', 'vtslgwln', 'vyushita_', 'waaaadaaaafaaak', 'wandering_swans', 'wayachillcabin', 'whatboutpriya', 'xx_mr_stupid_boy_xx143', 'xx_raj_ji_king', 'yashchoudhary_28', 'yugalgarden', 'yujunglynis', 'yumm_my_tummy', 'zoya_aesthetics1', 'zu.ber7091']\n"
     ]
    }
   ],
   "source": [
    "bt_serch = driver.find_element(By.XPATH,'//input[starts-with(@placeholder,\"Search\")]')\n",
    "bt_serch.get_attribute(\"outerHTML\")\n",
    "bt_serch.send_keys(\"foodtalkindia\")\n",
    "time.sleep(2)\n",
    "\n",
    "fti_btn = driver.find_element(By.XPATH,'//a[starts-with(@class,\"oajrlxb2 \")]//div[contains(@class,\"_aacl\")]/div/div')\n",
    "fti_btn.click()\n",
    "time.sleep(4)\n",
    "\n",
    "followers_btn = driver.find_element(By.XPATH,'//a[contains(@class,\"oajrlxb2\")]')\n",
    "followers_btn.click()\n",
    "\n",
    "followers_window = WebDriverWait(driver, 4).until(EC.element_to_be_clickable((By.XPATH, '//div[contains(@class,\"_aano\")]')))\n",
    "  \n",
    "# Scroll till Followers list is there\n",
    "count = 0\n",
    "li = {}\n",
    "while count < 500:\n",
    "    bt_serch = driver.find_elements(By.XPATH,'//a[contains(@class,\"oajrlxb2\")]/span')\n",
    "    \n",
    "    for i in bt_serch:\n",
    "        name = i.get_attribute(\"innerHTML\")\n",
    "        if name not in li:\n",
    "            li[name]= 1\n",
    "            count +=1\n",
    "    driver.execute_script('arguments[0].scrollTop = arguments[0].scrollTop + arguments[0].offsetHeight;',followers_window)\n",
    "    time.sleep(2)\n",
    "    \n",
    "final_list_fti = sorted(li)\n",
    "print(final_list_fti)"
   ]
  },
  {
   "cell_type": "code",
   "execution_count": 151,
   "id": "1c6b2ace",
   "metadata": {},
   "outputs": [],
   "source": [
    "# home botton\n",
    "driver.back()\n",
    "time.sleep(2)\n",
    "driver.back()\n",
    "time.sleep(2)\n",
    "# clear search and refresh \n",
    "driver.refresh() \n",
    "time.sleep(2)"
   ]
  },
  {
   "cell_type": "code",
   "execution_count": 174,
   "id": "d679406a",
   "metadata": {},
   "outputs": [
    {
     "name": "stdout",
     "output_type": "stream",
     "text": [
      "['09__banti___nagar', '09rsameer', '4_glimpse', '<div class=\"_aacl _aacn _aacv _aacy _aad6\">Followed by <span class=\"_aaai\">chhaya.jadhao.56</span> and <span class=\"_aaai\">foodtalkindia</span></div>', '_.chaudhry._', '_.harry__26', '_.kaur2', '_0001sahil', '__._._._.m_._._.__', '____ali___36', '__beingpriyanka__', '__rehan__523____', '__robin94', '__sakshii.0', '_aakku', '_alathi_', '_anupampatel', '_ashimaaaa_', '_binduyadav12', '_binniee__', '_dev_agarwal', '_dikshasachdeva_', '_goyalaman', '_himanshi_jindal', '_itsmeevee__', '_janaaaaa.__', '_kash.pvttt_', '_kiaraadvanii', '_kritika31', '_livin_a_lill_', '_nishtha.__', '_rum.it_', '_sheena.bhatia_', '_shubh_garg_', '_shubhangi16_', '_shweta_ghosalkar', '_sonamarora755_', '_vanshika06_', '_vijay_ravi_143', '_yadav.mohit', 'a.m.i.t.s.i.n.g.h_', 'aadi1thebaniya', 'aahana.chauhan', 'aakashagrawalll', 'aakritigupta_447', 'aarush_sharma24', 'abby_singh87', 'abhay_nagar_43', 'adaakhan1810', 'aditi_raj02', 'aditibhatia111077', 'adventurerules', 'agarwalprachi_', 'aindrilla_soor', 'ak090294', 'akanksha_tomar9', 'akasshks', 'akram.aki111', 'ala.trading', 'alhjazyahmd979', 'always_there_for_you_army_', 'amiraslankhan_', 'amit00696900', 'anchal_guleria1296', 'anilbarman19387', 'anish__.aggarwal', 'anitjohn28', 'anjali.arul', 'anjali12bhadana', 'anjeev_thenailbar', 'ankit28may', 'ankit_rathore_27', 'annjali08', 'antarararararaa', 'antevasin11', 'anu_dwivedi_7642', 'anushhakaushik', 'apaargupta.97', 'ar.anubhav.gupta_', 'arabindabasu_92', 'arbu_khan_____', 'archanasablania', 'archnakesarwani', 'ariesnik_19', 'armaanbajaj_', 'arnav.sahni', 'arorashreya_23', 'arpitupadhyay01', 'arunimamadhu', 'arushidubayeee', 'arxana_._', 'arya._.saab', 'aryank_1502', 'aryavaanjain', 'ashfaq_ullah_khan', 'ashu_bachhlia', 'asiyaqureshi59', 'asmitabora3', 'at_nd_r', 'auqhsinat', 'avishaameena', 'ayush_garg89', 'ayushi.singh0211', 'ayushiiaroraaa', 'ayushrawat17', 'ayushyadavkgp', 'banglacanvas', 'bansaljagmeet', 'barba_ricme', 'beautychaturvedi_', 'bebo_bundela.9693001', 'bholaprateek', 'bhuuvannn', 'bilal_chaudhary_77', 'birdnetanti', 'bisht.rahulll', 'bishtydipti', 'blahblahxyz24', 'blingandblushh', 'bshree1', 'c.a.akshay01', 'cafe81india', 'calljennk', 'carefreepablo', 'ch_vikas_nain', 'chahal.nimer', 'chaitanya_dhanak', 'chanchal_george', 'chandni28_12', 'chayan.jain04', 'chetna_un', 'chinaysagrawat', 'choudharysuchita98', 'clicksby_mary', 'coding_project_0001', 'crownne_', 'cupid_lk', 'currentlyhiba', 'd_i_l_s_h_a_d__a_l_a_m', 'dafawhoe', 'dc_creation2022', 'decoria_delhi', 'deepanshu_khutail', 'deeptvh', 'devisaranyas92', 'dhananjaysonii_', 'dhriti_gaur', 'dillisthetic', 'dilsedelhi1', 'divya.upmanyu.rathore', 'divyanshu22__', 'doc.ishi', 'doonnidhi', 'dr.deviyani', 'dream_is_mine20', 'ds9586472', 'dsux2022', 'duttameenakshi', 'dv.shana', 'ekta.s_artistry_', 'events_and_architecture', 'explorer.souls', 'famouskalakaar', 'fit__with__saumeal', 'fizztzuu', 'foodiefist', 'foodiepandit_', 'foujji_shab.__________', 'gaurav._.bhagat', 'gaurav_mehndiratta23', 'gauravsingh8874', 'gawar_fully', 'ggngpt', 'girish.ananth911', 'glitter_riya', 'grusha_1994', 'gundeep131313', 'hafsaaslam_', 'hansikakhajuria', 'harry_9552', 'harshil_sagpariya_1', 'healthpoint00', 'hey_tal', 'hey_tishaa', 'heyitsdilli', 'him_ani1229', 'hustlekinghustle', 'i_m_aishani', 'i_sakshi10', 'iam_about_everything', 'iamroypreety', 'iankit__', 'ifrah.siddiqui42', 'ig_mohito', 'ikatvnix', 'im_hsagar', 'imohitbedgujar', 'india_hjd', 'insid_ejoy', 'insta_ridhi', 'instarksinghal', 'irfan_khan8903', 'ishita.__arora', 'ishitashah3099', 'itikaaaa07', 'itisyus', 'its_allu_queen_', 'its_jinia_here', 'itsani01', 'itsme_dimple02', 'itsmeh_amit', 'itsmesushmitad', 'itz_faizi_1', 'itz_nidhi61', 'jain_avi94', 'jaya_ojha2803', 'jhanvi_.choudhary_', 'jikmee_kazi', 'jingles_09', 'jonjdench', 'jossc190', 'jujuonthewhat', 'just_prajjwal', 'justinjewelery6', 'jyoti_163', 'k782s', 'kainkareswar', 'kakarot9926', 'kalyan__solanki', 'kamakshi_shukla01', 'kanikagoyal752', 'kashish_gidwani_rachna', 'kashvi.nagpall', 'katxloe', 'kaurbunny12', 'kaurshweta001', 'keswanisantosh', 'khan.faizan983', 'khanjjjarrr', 'khanna3275', 'khushiiiguptaa_', 'khushisachdevaa', 'khusshi.thacker', 'kirodhsahu', 'kombooz', 'krishna_pahwa09', 'kritikx.1', 'kryptoconnoisseur', 'kumarharsh774', 'kunalthemighty', 'lalit_gullaiya', 'ldumbledorel', 'let_s_travel_', 'lethargicqueer', 'live_in_relationships', 'liza_dogra', 'lm_amanshah', 'lokendertiwari', 'luckysharma2121', 'luv_ayushi', 'm.shubhii', 'm_shoeb8', 'maanyaayaayaa', 'mackmantra', 'mahi.pret', 'manish_yadavvvv01', 'manishaguptaarora', 'manishroy06__official', 'manjott_0', 'manjubishtt', 'mannlamba', 'mansi__mehrotra', 'manveennnkaur', 'manviiigupta', 'maxfac_residency', 'mayank2527', 'mayankgupta047', 'maybetaeidk', 'me_anjaliiiii_', 'me_neharika', 'me_versus_the_world_', 'meenakshisnair2002', 'meghaislost', 'mehta_sahabji', 'memesnstuff4', 'metal.head.freak', 'miss__sanskari28', 'mittalpunit28', 'mittalriyaa', 'mkshah25', 'mohammedanishh', 'mohdjaved9366', 'monika.bansal93', 'mosessaladi', 'mr_food_corner24', 'nagpur_city_graphic', 'naman._.19', 'namita.jain.7503', 'namrataraghav', 'nandini_deb_', 'narangharsha9', 'narulaprince4', 'navvr._', 'navyaaa_shrivastava', 'neon__clouds_', 'nidhimalik5655', 'nikhilver405', 'nilanshi.garg', 'nilesh.sinha.589', 'nimmi_narayanan_', 'nisha.batraxx', 'nishantsharma6e', 'nishataurean', 'nishthaarora26', 'nivzz_makeovers', 'nrppriyadarshini', 'ns24031987', 'nswtravelogue', 'nunpuiikhiangte_', 'nupur_empowering_women', 'nxg07', 'official_nehagupta', 'official_yadav_nee2', 'om__yadav', 'onlyforshivam', 'oye_sufaid', 'paavni_khurana', 'parigami_dagar', 'pastelbudindia', 'peace.of.mind_annu', 'perfectlly_arranged_', 'photographer_raja_kankan', 'piyushtaak639', 'piyushverma93', 'poon.am1130', 'poulomi.ds', 'praachibahuguna', 'pragya.nidhi28', 'prakhar.thakur_', 'prateek_mehta1', 'prateekgamta', 'pratyanchaagupta', 'preetinder_kaur23', 'princei_swag', 'priya_gupta034', 'priya_jii74', 'priyanka_nehlani', 'priyasharma7016', 'procrastinating_dragon', 'raamesh._', 'rachna.chopra.10', 'raghu.4241', 'raheel.asghar.3152', 'rahulguru777', 'rahulsharma__0497', 'raj._.gautam', 'raj_malhotra503', 'rajpalraj530', 'ram_in6811', 'rampandeymtr', 'rashmidagar_', 'ravenakalra', 'ravi__rao.__08', 'redwine_n_olives', 'reedum_sharma', 'reeeeeeeruuuuuuu', 'renata_bortolotti', 'rewati.sachdeva', 'richaandreanibisht', 'rish_025', 'ristorycal', 'ritikathenemesis', 'riyanshi.arora', 'riyapaul84', 'rk_merton', 'rohan._.rawal', 'rohanbaghel_', 'rohanbbu_26', 'royal_bitiya', 'ruhuu.24', 'rupalj_29', 'rusnrg', 'rwvierra', 's_anushka10', 'sabira_md_sk', 'sachinagarwal3660', 'sagar_singh8800', 'sameer.kumar18', 'sammy_carterg', 'sandarbh_singhh', 'sandeepjha2312', 'sangeet_shourabh_ojha', 'sapna.jeswani', 'sarthak.sharma08', 'saumyajotwani', 'saurabhkapoor1994', 'sayedrehan634', 'sayyed_salaudin', 'sayyedhusain135', 'sbkeverafter', 'self_notes__', 'shalini4961', 'shambhala_0', 'shasha1378', 'sheetaljain4', 'shehlath', 'shekhawatsonika', 'shilpaarora771', 'shivam.yadav.09', 'shivam_magon', 'shivuthapliyal', 'shobhitrajverma1', 'shrestha_4444', 'shreyaaaarya', 'shreyansh_gadi', 'shridulagoyal', 'shrinjal_', 'shriya_runjhun', 'shubh2028_', 'shubhi06__', 'shyambabu7064', 'siiddhi_29', 'singhanweshaa', 'singhsukhinder3', 'sndip_dngi', 'snehaa2296', 'snehamishra9619', 'snehaslays_', 'spaamvitha', 'srajan.surabhi', 'srishti_0703', 'srishtijais1234', 'ssak.6527', 'subhojeet.kyy', 'sumit_____mann', 'sumit_delta', 'sunil_kumar_92001', 'superstixious', 'surbhibansal8978', 'suuaannii', 'suunnnyy__', 'swaatie', 'swaatiroy', 'swastikaa_2401', 'sweta.pradhan3', 'ta_ni0212', 'tanishkaaaaa.gupta', 'tanishqsindhu', 'tanya.jain04', 'tanyakalraa', 'tathagat__12', 'that_kaurr', 'the.shubhgupta', 'the_mr._sharma', 'the_solitaire_girl', 'the_turbaned_foodie', 'thebeaconboss2022', 'thecadeaustory', 'theesiddharth', 'thekamalbora', 'thelost.tribe', 'themindfodder', 'thephotojunction', 'thepickyeeater', 'theprincesehrawat', 'theroopalisethi', 'thesunrayyyy', 'this_batak', 'thisis_aafiya', 'tnaaz56', 'travelstoriesbysara', 'udaipur_white_city_', 'uniqegiftshop', 'ur.vashiii', 'vanshikha__', 'viharinaali', 'vikas1792', 'vikassharma56192', 'vikramsng', 'viktor_sr99', 'vinosupraja', 'vishalkushwah364', 'vishnu_nair_76', 'vismaya_bansal', 'vivtyagi5', 'wandering_gyps_', 'washqureshi', 'weekend_humsafar', 'whynotsomya', 'x_.tanishkaaa_.x', 'x_sameer_kassar', 'xo.ash_forever.xo', 'yanshaa_25', 'yashvi.g23', 'your_palette__', 'yourworldmyvision', 'yprwchi', 'yusuf.khilji.716', 'zareen._.khan0', 'zeshayi']\n"
     ]
    }
   ],
   "source": [
    "bt_serch = driver.find_element(By.XPATH,'//input[starts-with(@placeholder,\"Search\")]')\n",
    "bt_serch.get_attribute(\"outerHTML\")\n",
    "bt_serch.send_keys(\"sodelhi\")\n",
    "time.sleep(2)\n",
    "\n",
    "sd_btn = driver.find_element(By.XPATH,'//a[starts-with(@class,\"oajrlxb2 \")]//div[contains(@class,\"_aacl\")]/div/div')\n",
    "sd_btn.click()\n",
    "time.sleep(4)\n",
    "\n",
    "followers_btn = WebDriverWait(driver, 10).until(EC.element_to_be_clickable((By.XPATH,'//a[contains(@class,\"oajrlxb2\")]')))\n",
    "followers_btn.click()\n",
    "\n",
    "followers_window = WebDriverWait(driver, 10).until(EC.element_to_be_clickable((By.XPATH, '//div[contains(@class,\"_aano\")]')))\n",
    "  \n",
    "# Scroll till Followers list is there\n",
    "count = 0\n",
    "li = {}\n",
    "while count < 500:\n",
    "    bt_serch = driver.find_elements(By.XPATH,'//a[contains(@class,\"oajrlxb2\")]/span')\n",
    "    for i in bt_serch:\n",
    "        name = i.get_attribute(\"innerHTML\")\n",
    "        if name not in li:\n",
    "            li[name]= 1\n",
    "            count +=1\n",
    "            \n",
    "    driver.execute_script('arguments[0].scrollTop = arguments[0].scrollTop + arguments[0].offsetHeight;',followers_window)\n",
    "    time.sleep(2)\n",
    "    \n",
    "final_list_sd = sorted(li)\n",
    "print(final_list_sd)"
   ]
  },
  {
   "cell_type": "markdown",
   "id": "499789a4",
   "metadata": {},
   "source": [
    "### 2. Printing all the followers of “foodtalkindia” that I am following but those who don’t follow me."
   ]
  },
  {
   "cell_type": "code",
   "execution_count": 157,
   "id": "a4d4a5bc",
   "metadata": {},
   "outputs": [
    {
     "name": "stdout",
     "output_type": "stream",
     "text": [
      "thuiwhor2lg\n"
     ]
    }
   ],
   "source": [
    "# home \n",
    "driver.back()\n",
    "time.sleep(2)\n",
    "driver.back()\n",
    "time.sleep(2)\n",
    "driver.refresh()\n",
    "time.sleep(4)\n",
    "\n",
    "# first click on my profile\n",
    "my_prof = driver.find_element(By.CLASS_NAME,\"_aaav\")\n",
    "my_prof.click()\n",
    "\n",
    "# click on profile \n",
    "followers_btn = WebDriverWait(driver, 10).until(EC.element_to_be_clickable((By.XPATH,'//div[@class=\"_aa61\"]/a')))\n",
    "followers_btn.click()\n",
    "\n",
    "#click on following\n",
    "following = WebDriverWait(driver, 10).until(EC.element_to_be_clickable((By.XPATH, '//a[@href = \"/aman_2022_sample_testing/following/\"]')))\n",
    "following.click()\n",
    "time.sleep(3)\n",
    "\n",
    "# total no. of following \n",
    "total_following = driver.find_elements(By.CLASS_NAME,\"_ac2a\")[-1]\n",
    "total_no = int(total_following.text)\n",
    "\n",
    "\n",
    "following_window = WebDriverWait(driver, 10).until(EC.element_to_be_clickable((By.XPATH, '//div[contains(@class,\"_aano\")]')))\n",
    "  \n",
    "# Scroll till Followers list is there\n",
    "count = 0\n",
    "my_following = set()\n",
    "while count < total_no:\n",
    "    bt_serch = driver.find_elements(By.XPATH,'//a[contains(@class,\"oajrlxb2\")]/span')\n",
    "    for i in bt_serch:\n",
    "        name = i.get_attribute(\"innerHTML\")\n",
    "        my_following.add(name)\n",
    "        count +=1\n",
    "    driver.execute_script('arguments[0].scrollTop = arguments[0].scrollTop + arguments[0].offsetHeight;',following_window)\n",
    "    time.sleep(4)\n",
    "    \n",
    "# close the pop up window\n",
    "driver.back()\n",
    "time.sleep(2)\n",
    "\n",
    "#search foodtalkindia\n",
    "bt_serch = driver.find_element(By.XPATH,'//input[starts-with(@placeholder,\"Search\")]')\n",
    "bt_serch.get_attribute(\"outerHTML\")\n",
    "bt_serch.send_keys(\"foodtalkindia\")\n",
    "time.sleep(2)\n",
    "\n",
    "fti_btn = driver.find_element(By.XPATH,'//a[starts-with(@class,\"oajrlxb2 \")]//div[contains(@class,\"_aacl\")]/div/div')\n",
    "fti_btn.click()\n",
    "time.sleep(4)\n",
    "\n",
    "#search mutual followers & create set for it\n",
    "m = driver.find_elements(By.CLASS_NAME,'_aaai')\n",
    "mutual_followers = set()\n",
    "for i in range(1,len(m)):\n",
    "    name = m[i].get_attribute(\"innerHTML\")\n",
    "    mutual_followers.add(name)\n",
    "    \n",
    "    \n",
    "#find the difference between two sets so that we get followers of foodtalkindia who do not follow me    \n",
    "for ele in mutual_followers.difference(my_following):\n",
    "    print(ele)  "
   ]
  },
  {
   "cell_type": "markdown",
   "id": "2b4113a3",
   "metadata": {},
   "source": [
    "## Part-7: Check The Story of ‘coding.ninjas’. \n",
    "## Consider The Following Scenarios & Print Error Messages Accordingly -\n",
    "## 1. If I have already seen the story.\n",
    "## 2. Or The user has no story.\n",
    "## 3. Or View the story if not yet seen."
   ]
  },
  {
   "cell_type": "code",
   "execution_count": 159,
   "id": "8a5c1fbc",
   "metadata": {},
   "outputs": [],
   "source": [
    "# home botton\n",
    "driver.back()\n",
    "time.sleep(2)\n",
    "driver.back()\n",
    "# clear search and refresh \n",
    "driver.refresh() \n",
    "time.sleep(2)"
   ]
  },
  {
   "cell_type": "code",
   "execution_count": 172,
   "id": "fe0bd54b",
   "metadata": {},
   "outputs": [
    {
     "name": "stdout",
     "output_type": "stream",
     "text": [
      "I have already seen the story\n"
     ]
    }
   ],
   "source": [
    "#search coding ninjas\n",
    "\n",
    "bt_serch = driver.find_element(By.XPATH,'//input[starts-with(@placeholder,\"Search\")]')\n",
    "bt_serch.get_attribute(\"outerHTML\")\n",
    "bt_serch.send_keys(\"coding.ninjas\")\n",
    "time.sleep(4)\n",
    "\n",
    "cn_btn = driver.find_element(By.XPATH,'//a[starts-with(@class,\"oajrlxb2 \")]//div[contains(@class,\"_aacl\")]/div/div')\n",
    "cn_btn.click()\n",
    "time.sleep(4)\n",
    "\n",
    "story_btn = driver.find_element(By.XPATH,'//div[starts-with(@class,\"_aarf\")]')\n",
    "\n",
    "#check is story is present using aria-disabled attribute\n",
    "\n",
    "if story_btn.get_attribute(\"aria-disabled\") == \"true\":\n",
    "    print(\"Coding Ninjas has no story\")\n",
    "    \n",
    "else:\n",
    "    #if story is present check if you have viewed the story by checking height attribute \n",
    "    story_check = driver.find_element(By.XPATH,'//div[starts-with(@class,\"_aarf\")]/canvas')\n",
    "    if story_check.get_attribute(\"height\") == '166':\n",
    "        print(\"I have already seen the story\")\n",
    "        \n",
    "\n",
    "    #if not viewed then view the story\n",
    "    else:\n",
    "        viewstory = driver.find_element(By.XPATH,'//div[starts-with(@class,\"_aarf\")]/span')\n",
    "        viewstory.click()\n",
    "        time.sleep(4)\n",
    "        while True:\n",
    "            try:\n",
    "                next_story = driver.find_element(By.XPATH,'//button[@aria-label=\"Next\"]')\n",
    "                next_story = driver.find_element(By.XPATH,'//button[@aria-label=\"Next\"]')\n",
    "                next_story.click()\n",
    "                time.sleep(4)\n",
    "            except:\n",
    "                break"
   ]
  }
 ],
 "metadata": {
  "kernelspec": {
   "display_name": "Python 3 (ipykernel)",
   "language": "python",
   "name": "python3"
  },
  "language_info": {
   "codemirror_mode": {
    "name": "ipython",
    "version": 3
   },
   "file_extension": ".py",
   "mimetype": "text/x-python",
   "name": "python",
   "nbconvert_exporter": "python",
   "pygments_lexer": "ipython3",
   "version": "3.9.7"
  }
 },
 "nbformat": 4,
 "nbformat_minor": 5
}
